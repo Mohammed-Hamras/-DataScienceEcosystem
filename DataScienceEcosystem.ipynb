{
 "cells": [
  {
   "cell_type": "markdown",
   "id": "7f3d50cf-92d4-4b6e-8347-c99019d7798f",
   "metadata": {},
   "source": [
    "# Data Science Tools and Ecosystem"
   ]
  },
  {
   "cell_type": "markdown",
   "id": "8790fd84-1924-4884-84d6-8d4710977c41",
   "metadata": {},
   "source": [
    "In this notebook, Data Science Tools and Ecosystem are summarized.\n"
   ]
  },
  {
   "cell_type": "markdown",
   "id": "1fa08ebc-5ea0-4a76-9c58-6459d57d3737",
   "metadata": {},
   "source": [
    "Some of the popular languages that Data Scientists use are:\n",
    "1. PYTHON\n",
    "2. R PROGRAMING\n",
    "3. JAVA"
   ]
  },
  {
   "cell_type": "markdown",
   "id": "03c1405e-ab58-4d7b-b49a-ad701c39b448",
   "metadata": {},
   "source": [
    "Some of the commonly used libraries used by Data Scientists include:\n",
    "1. Machine Learning\n",
    "2. AutoML\n",
    "3. Deep Learning"
   ]
  },
  {
   "cell_type": "markdown",
   "id": "fdb95da4-2088-4cf2-955e-8b0748d79f24",
   "metadata": {},
   "source": [
    "| Data Science Tools |\n",
    "| ------------------ |\n",
    "| Jupyter Notebook |\n",
    "| Pandas |\n",
    "| R |"
   ]
  },
  {
   "cell_type": "markdown",
   "id": "2ce3d12a-d248-4147-b276-e4c98fab0e71",
   "metadata": {},
   "source": [
    "### Below are a few examples of evaluating arithmetic expressions in Python"
   ]
  },
  {
   "cell_type": "code",
   "execution_count": 44,
   "id": "d06ce38d-2e96-493a-99a9-1d8df577020a",
   "metadata": {
    "scrolled": true
   },
   "outputs": [
    {
     "data": {
      "text/plain": [
       "17"
      ]
     },
     "execution_count": 44,
     "metadata": {},
     "output_type": "execute_result"
    }
   ],
   "source": [
    "#This a simple arithmetic expression to mutiply then add integers\n",
    "(3*4)+5"
   ]
  },
  {
   "cell_type": "code",
   "execution_count": 34,
   "id": "d5011d4b-cda9-40ab-8e59-7bb4f865b9b9",
   "metadata": {},
   "outputs": [
    {
     "data": {
      "text/plain": [
       "3.3333333333333335"
      ]
     },
     "execution_count": 34,
     "metadata": {},
     "output_type": "execute_result"
    }
   ],
   "source": [
    "#This will convert 200 minutes to hours by diving by 60\n",
    "200/60\n",
    "\n",
    "\n"
   ]
  },
  {
   "cell_type": "markdown",
   "id": "b2b569b7-e117-42cf-bc9e-2f65a92ca911",
   "metadata": {},
   "source": [
    "**Objectives:**\n",
    "- python\n",
    "- java\n",
    "- r programming  \n"
   ]
  },
  {
   "cell_type": "markdown",
   "id": "bbb9d719-177f-4b3b-a271-0699914f6e8f",
   "metadata": {},
   "source": [
    "## AUTHOR\n",
    "Mohammed Hamras Sulaiman"
   ]
  },
  {
   "cell_type": "code",
   "execution_count": null,
   "id": "b5c47ce9-2532-4bac-8e78-695635d44da6",
   "metadata": {},
   "outputs": [],
   "source": []
  }
 ],
 "metadata": {
  "kernelspec": {
   "display_name": "Python 3 (ipykernel)",
   "language": "python",
   "name": "python3"
  },
  "language_info": {
   "codemirror_mode": {
    "name": "ipython",
    "version": 3
   },
   "file_extension": ".py",
   "mimetype": "text/x-python",
   "name": "python",
   "nbconvert_exporter": "python",
   "pygments_lexer": "ipython3",
   "version": "3.12.4"
  }
 },
 "nbformat": 4,
 "nbformat_minor": 5
}
